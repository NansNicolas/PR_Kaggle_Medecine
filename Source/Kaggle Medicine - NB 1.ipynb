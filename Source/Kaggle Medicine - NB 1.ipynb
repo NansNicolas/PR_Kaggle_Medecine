{
 "cells": [
  {
   "cell_type": "markdown",
   "metadata": {},
   "source": [
    "# Kaggle Medicine - NB 1"
   ]
  },
  {
   "cell_type": "markdown",
   "metadata": {},
   "source": [
    "## 1. Import des librairies "
   ]
  },
  {
   "cell_type": "code",
   "execution_count": 1,
   "metadata": {},
   "outputs": [],
   "source": [
    "import numpy as np\n",
    "import pandas as pd\n",
    "\n",
    "import os\n",
    "\n",
    "import gensim"
   ]
  },
  {
   "cell_type": "markdown",
   "metadata": {},
   "source": [
    "### Fonction pour ne pas stocker toutes les phrases en mémoire RAM"
   ]
  },
  {
   "cell_type": "code",
   "execution_count": 2,
   "metadata": {},
   "outputs": [],
   "source": [
    "class MySentences(object):\n",
    "    def __init__(self, dirname):\n",
    "        self.dirname = dirname\n",
    " \n",
    "    def __iter__(self):\n",
    "        for fname in os.listdir(self.dirname):\n",
    "            for line in open(os.path.join(self.dirname, fname)):\n",
    "                yield line.split()"
   ]
  },
  {
   "cell_type": "code",
   "execution_count": 3,
   "metadata": {},
   "outputs": [],
   "source": [
    "sentences = MySentences('../Data/W2V_text/') # a memory-friendly iterator"
   ]
  },
  {
   "cell_type": "code",
   "execution_count": 4,
   "metadata": {},
   "outputs": [],
   "source": [
    "model = gensim.models.Word2Vec(sentences, size = 100, window = 5, min_count = 5, workers =4)"
   ]
  },
  {
   "cell_type": "code",
   "execution_count": 7,
   "metadata": {},
   "outputs": [
    {
     "data": {
      "text/plain": [
       "[('cancers', 0.7859612703323364),\n",
       " ('adenocarcinoma', 0.7348741292953491),\n",
       " ('Neurosciences', 0.6844831109046936),\n",
       " ('carcinoma', 0.6820287704467773),\n",
       " ('tumor', 0.6633917093276978),\n",
       " ('adenocarcinomas', 0.6621795892715454),\n",
       " ('tumour', 0.6508821249008179),\n",
       " ('carcinogenesis', 0.6489297151565552),\n",
       " ('CRC', 0.6423000693321228),\n",
       " ('neuroblastoma', 0.6337517499923706)]"
      ]
     },
     "execution_count": 7,
     "metadata": {},
     "output_type": "execute_result"
    }
   ],
   "source": [
    "model.wv.most_similar(positive=['cancer'])"
   ]
  },
  {
   "cell_type": "code",
   "execution_count": 8,
   "metadata": {},
   "outputs": [
    {
     "data": {
      "text/plain": [
       "[('colorectal', 0.7314184308052063),\n",
       " ('nonlung', 0.7151570320129395),\n",
       " ('tubulare', 0.7139955759048462),\n",
       " ('esophageal', 0.7096545100212097),\n",
       " ('bladder', 0.7042422294616699),\n",
       " ('colon', 0.6952270269393921),\n",
       " ('gastric', 0.690684974193573),\n",
       " ('pancreatic', 0.685466468334198),\n",
       " ('pharyngeal', 0.6645047068595886),\n",
       " ('gallbladder', 0.6628053784370422)]"
      ]
     },
     "execution_count": 8,
     "metadata": {},
     "output_type": "execute_result"
    }
   ],
   "source": [
    "model.wv.most_similar(positive=['lung'])"
   ]
  },
  {
   "cell_type": "code",
   "execution_count": 9,
   "metadata": {},
   "outputs": [],
   "source": [
    "mod = model.wv\n",
    "del model"
   ]
  },
  {
   "cell_type": "code",
   "execution_count": null,
   "metadata": {},
   "outputs": [],
   "source": [
    "mod.vocab.keys()"
   ]
  }
 ],
 "metadata": {
  "kernelspec": {
   "display_name": "Python 3",
   "language": "python",
   "name": "python3"
  },
  "language_info": {
   "codemirror_mode": {
    "name": "ipython",
    "version": 3
   },
   "file_extension": ".py",
   "mimetype": "text/x-python",
   "name": "python",
   "nbconvert_exporter": "python",
   "pygments_lexer": "ipython3",
   "version": "3.6.4"
  }
 },
 "nbformat": 4,
 "nbformat_minor": 2
}
